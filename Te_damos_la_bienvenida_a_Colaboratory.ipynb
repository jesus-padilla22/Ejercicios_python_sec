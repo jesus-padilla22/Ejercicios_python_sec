{
  "cells": [
    {
      "cell_type": "markdown",
      "metadata": {
        "id": "view-in-github",
        "colab_type": "text"
      },
      "source": [
        "<a href=\"https://colab.research.google.com/github/jesus-padilla22/Ejercicios_python_sec/blob/main/Te_damos_la_bienvenida_a_Colaboratory.ipynb\" target=\"_parent\"><img src=\"https://colab.research.google.com/assets/colab-badge.svg\" alt=\"Open In Colab\"/></a>"
      ]
    },
    {
      "cell_type": "code",
      "source": [
        "primernum = True\n",
        "while confirmar == \"SI\":\n",
        " num = int(input(\"ingrese el numero: \"))\n",
        "if primernum:\n",
        "  max = num\n",
        "  min = num\n",
        "  primernum = True\n",
        "  if max < num:\n",
        "    max = num\n",
        "  confirmar = input(\"escriba SI para contunuar o NO para finalizar\")\n",
        "if min > num:\n",
        " min = num\n",
        "print(\"el numero mayor: \", max)\n",
        "print(\"el numero menor: \", min)"
      ],
      "metadata": {
        "id": "nrtLyRICdzal",
        "outputId": "54eb8e79-85fc-44e5-dba9-c37a19528af6",
        "colab": {
          "base_uri": "https://localhost:8080/"
        }
      },
      "execution_count": null,
      "outputs": [
        {
          "name": "stdout",
          "output_type": "stream",
          "text": [
            "ingrese el numero: -1\n"
          ]
        }
      ]
    },
    {
      "cell_type": "code",
      "source": [],
      "metadata": {
        "id": "Hnyw5aSvhBET"
      },
      "execution_count": 10,
      "outputs": []
    }
  ],
  "metadata": {
    "colab": {
      "name": "Te damos la bienvenida a Colaboratory",
      "toc_visible": true,
      "provenance": [],
      "include_colab_link": true
    },
    "kernelspec": {
      "display_name": "Python 3",
      "name": "python3"
    }
  },
  "nbformat": 4,
  "nbformat_minor": 0
}