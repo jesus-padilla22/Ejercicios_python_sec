{
  "cells": [
    {
      "cell_type": "markdown",
      "metadata": {
        "id": "view-in-github",
        "colab_type": "text"
      },
      "source": [
        "<a href=\"https://colab.research.google.com/github/jesus-padilla22/Ejercicios_python_sec/blob/main/Te_damos_la_bienvenida_a_Colaboratory.ipynb\" target=\"_parent\"><img src=\"https://colab.research.google.com/assets/colab-badge.svg\" alt=\"Open In Colab\"/></a>"
      ]
    },
    {
      "cell_type": "markdown",
      "source": [
        "moódulo"
      ],
      "metadata": {
        "id": "VP2oGdmLVA3Y"
      }
    },
    {
      "cell_type": "code",
      "source": [
        "mensaje1= \"mi nombre es \"\n",
        "mensaje2= \"Jesus padilla\"\n",
        "\n",
        "mensaje3 = \" vivo en cerete\"\n",
        "print(mensaje1+mensaje2+mensaje3)"
      ],
      "metadata": {
        "id": "Rmlyxg6pV3TH",
        "outputId": "66520f30-c842-4d07-8913-5cc9cc555fa9",
        "colab": {
          "base_uri": "https://localhost:8080/"
        }
      },
      "execution_count": 12,
      "outputs": [
        {
          "output_type": "stream",
          "name": "stdout",
          "text": [
            "mi nombre es Jesus padilla vivo en cerete\n"
          ]
        }
      ]
    },
    {
      "cell_type": "code",
      "source": [
        "# and\n",
        "print((4 > 5) and (7 != 3))\n",
        "print(( 4== 3) and (5 + 1 ==1))\n",
        "# or\n",
        "print(True or (3 + 4 ==7))\n",
        "print((3 == 8 ) or (3 > 4))\n",
        "# not\n",
        "print(not (3 > 5))\n",
        "print(True and not (3 > 5))\n",
        "\n"
      ],
      "metadata": {
        "id": "kIlW_xBHZ_A3",
        "outputId": "afc43277-0479-4ebd-8ead-410bf745e1b4",
        "colab": {
          "base_uri": "https://localhost:8080/"
        }
      },
      "execution_count": 16,
      "outputs": [
        {
          "output_type": "stream",
          "name": "stdout",
          "text": [
            "False\n",
            "False\n",
            "True\n",
            "False\n",
            "True\n",
            "True\n"
          ]
        }
      ]
    },
    {
      "cell_type": "code",
      "source": [],
      "metadata": {
        "id": "UsewOJUZbaT9"
      },
      "execution_count": null,
      "outputs": []
    }
  ],
  "metadata": {
    "colab": {
      "name": "Te damos la bienvenida a Colaboratory",
      "toc_visible": true,
      "provenance": [],
      "include_colab_link": true
    },
    "kernelspec": {
      "display_name": "Python 3",
      "name": "python3"
    }
  },
  "nbformat": 4,
  "nbformat_minor": 0
}