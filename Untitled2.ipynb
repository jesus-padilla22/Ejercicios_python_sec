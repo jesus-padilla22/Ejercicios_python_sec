{
  "nbformat": 4,
  "nbformat_minor": 0,
  "metadata": {
    "colab": {
      "provenance": [],
      "toc_visible": true,
      "authorship_tag": "ABX9TyOxmAy54I8cvrpdqk1eNUV6",
      "include_colab_link": true
    },
    "kernelspec": {
      "name": "python3",
      "display_name": "Python 3"
    },
    "language_info": {
      "name": "python"
    }
  },
  "cells": [
    {
      "cell_type": "markdown",
      "metadata": {
        "id": "view-in-github",
        "colab_type": "text"
      },
      "source": [
        "<a href=\"https://colab.research.google.com/github/jesus-padilla22/Ejercicios_python_sec/blob/main/Untitled2.ipynb\" target=\"_parent\"><img src=\"https://colab.research.google.com/assets/colab-badge.svg\" alt=\"Open In Colab\"/></a>"
      ]
    },
    {
      "cell_type": "code",
      "source": [
        "base =\n",
        "exp =\n",
        "if"
      ],
      "metadata": {
        "colab": {
          "base_uri": "https://localhost:8080/",
          "height": 140
        },
        "id": "kjld8BQZnmMc",
        "outputId": "cf699cff-2a86-49f4-da28-234b443a4cd4"
      },
      "execution_count": 2,
      "outputs": [
        {
          "output_type": "error",
          "ename": "SyntaxError",
          "evalue": "ignored",
          "traceback": [
            "\u001b[0;36m  File \u001b[0;32m\"<ipython-input-2-1bf3909d0145>\"\u001b[0;36m, line \u001b[0;32m1\u001b[0m\n\u001b[0;31m    base =\u001b[0m\n\u001b[0m           ^\u001b[0m\n\u001b[0;31mSyntaxError\u001b[0m\u001b[0;31m:\u001b[0m invalid syntax\n"
          ]
        }
      ]
    },
    {
      "cell_type": "code",
      "execution_count": null,
      "metadata": {
        "colab": {
          "base_uri": "https://localhost:8080/"
        },
        "id": "hb6LURBCnDZt",
        "outputId": "228c7ea6-7cb7-4d58-a34b-9b847c8f4a34"
      },
      "outputs": [
        {
          "name": "stdout",
          "output_type": "stream",
          "text": [
            "ingrese un numero 4\n",
            "ingrese un numero 3\n",
            "ingrese un numero 4\n",
            "ingrese un numero 7\n",
            "ingrese un numero 9\n",
            "ingrese un numero 2\n",
            "ingrese un numero 5\n",
            "ingrese un numero 3\n"
          ]
        }
      ],
      "source": [
        "from IPython.utils.sysinfo import num_cpus\n",
        "suma = 0\n",
        "contador = 0\n",
        "promedio = 0\n",
        "num = 5\n",
        "\n",
        "while num > 0 :\n",
        "\n",
        " Contador = contador + 1\n",
        "\n",
        " Num = int(input(\"ingrese un numero \"))\n",
        " suma = suma + num\n",
        "\n",
        "Promedio = suma /(contador -1)\n",
        "print(\"el promedio es : \", promedio)\n",
        "\n"
      ]
    },
    {
      "cell_type": "code",
      "source": [
        "import random\n",
        "\n",
        "num = random.randint(0, 10)\n",
        "print(num)\n",
        "numusuario = 1\n",
        "\n",
        "while num != numusuario:\n",
        "  numusuario = int(IN)\n",
        "\n",
        "\n",
        "\n",
        "\n",
        "\n",
        "\n",
        "\n",
        "\n",
        "\n",
        "\n",
        "\n",
        "\n",
        "\n",
        "\n",
        "\n",
        "\n",
        "\n",
        "\n",
        "\n",
        "\n",
        "\n",
        "\n",
        "\n",
        "\n",
        "\n",
        "\n",
        "\n",
        "\n"
      ],
      "metadata": {
        "id": "BaKS7vWItbPc"
      },
      "execution_count": null,
      "outputs": []
    },
    {
      "cell_type": "code",
      "source": [],
      "metadata": {
        "id": "aodBAkioxZ5m"
      },
      "execution_count": null,
      "outputs": []
    },
    {
      "cell_type": "code",
      "source": [],
      "metadata": {
        "id": "ZBgdqqppzoM0"
      },
      "execution_count": null,
      "outputs": []
    }
  ]
}